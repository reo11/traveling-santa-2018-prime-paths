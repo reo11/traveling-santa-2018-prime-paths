{
 "cells": [
  {
   "cell_type": "markdown",
   "metadata": {
    "_uuid": "d81e444f756accd0298d4621fa0ae9a304b1b8cb"
   },
   "source": [
    "This notebook shows how to build and run concorde TSP solver directly, without using a rather underfeatured wrapper like pyconcorde."
   ]
  },
  {
   "cell_type": "code",
   "execution_count": 1,
   "metadata": {
    "_kg_hide-input": true,
    "_kg_hide-output": true,
    "_uuid": "591a9951fb440886321293810976c2b2cee906d1"
   },
   "outputs": [],
   "source": [
    "import numpy as np\n",
    "import pandas as pd\n",
    "import matplotlib as mpl\n",
    "import matplotlib.pyplot as plt\n",
    "import sympy\n",
    "import os\n",
    "os.environ['path']+=\";C:\\\\Program Files\\\\Git\\\\bin\""
   ]
  },
  {
   "cell_type": "markdown",
   "metadata": {
    "_uuid": "61e0b1fe36c81d63a46164b38398196c82f747ab"
   },
   "source": [
    "## Build concorde"
   ]
  },
  {
   "cell_type": "markdown",
   "metadata": {
    "_uuid": "b3d9259cd0fdc190f9368ecbd2b5c191bdfbd455"
   },
   "source": [
    "*Note: Internet must be enabled in kernel environment's settings for this step.*\n",
    "\n",
    "Download concorde's source code and build LINKERN - the main tour finding component (chained Lin-Kernighan). It comes with a convenient command line utility that we'll copy for later use."
   ]
  },
  {
   "cell_type": "code",
   "execution_count": 3,
   "metadata": {
    "_kg_hide-output": true,
    "_uuid": "941330be815f316eb27c8d92e3e207c1101ec904"
   },
   "outputs": [
    {
     "name": "stdout",
     "output_type": "stream",
     "text": [
      "Couldn't find program: 'bash'\n"
     ]
    }
   ],
   "source": [
    "%%bash -e\n",
    "if ! [[ -f ./linkern ]]; then\n",
    "  wget http://www.math.uwaterloo.ca/tsp/concorde/downloads/codes/src/co031219.tgz\n",
    "  echo 'c3650a59c8d57e0a00e81c1288b994a99c5aa03e5d96a314834c2d8f9505c724  co031219.tgz' | sha256sum -c\n",
    "  tar xf co031219.tgz\n",
    "  (cd concorde && CFLAGS='-O3 -march=native -mtune=native -fPIC' ./configure)\n",
    "  (cd concorde/LINKERN && make -j && cp linkern ../../)\n",
    "  rm -rf concorde co031219.tgz\n",
    "fi"
   ]
  },
  {
   "cell_type": "markdown",
   "metadata": {
    "_uuid": "9cfacfa5e5d790a9c24200f1add672fc00655c4b"
   },
   "source": [
    "The rest of concorde code is mostly dedicated to optimizing a lower bound on TSP length and is not of great practical interest for this competition, so we won't built it."
   ]
  },
  {
   "cell_type": "markdown",
   "metadata": {
    "_uuid": "f1f3cbe6c8c55da7871132a2274c9b4b4b988026"
   },
   "source": [
    "## Prepare input"
   ]
  },
  {
   "cell_type": "code",
   "execution_count": 3,
   "metadata": {
    "_uuid": "ff353a84a538df573157c1292dd3b22564105fe0"
   },
   "outputs": [],
   "source": [
    "cities = pd.read_csv('../input/cities.csv', index_col=['CityId'])"
   ]
  },
  {
   "cell_type": "markdown",
   "metadata": {
    "_uuid": "d11ef7ca844f7ab5e0067cac970374b1e31b9840"
   },
   "source": [
    "Concorde's EUC_2D norm rounds the distances between cities to the nearest integer ([source](https://github.com/matthelb/concorde/blob/master/UTIL/edgelen.c#L299)) whereas competition metric doesn't. This significantly hurts quality as we get closer to TSP optimum. Let's scale the coordinates up by a few orders of magnitude to work around this problem:"
   ]
  },
  {
   "cell_type": "code",
   "execution_count": 4,
   "metadata": {
    "_uuid": "2620246a8508ac6305df99bfab39186e905c7fe9"
   },
   "outputs": [],
   "source": [
    "cities1k = cities * 1000"
   ]
  },
  {
   "cell_type": "markdown",
   "metadata": {
    "_uuid": "f50f40237f17e8e9f940770aaf6b6f22d26070c7"
   },
   "source": [
    "Write out the problem in TSPLIB format:"
   ]
  },
  {
   "cell_type": "code",
   "execution_count": 5,
   "metadata": {
    "_uuid": "3860fa55810850db2bc72e0235d2713f0b32db0a"
   },
   "outputs": [],
   "source": [
    "def write_tsp(cities, filename, name='traveling-santa-2018-prime-paths'):\n",
    "    with open(filename, 'w') as f:\n",
    "        f.write('NAME : %s\\n' % name)\n",
    "        f.write('COMMENT : %s\\n' % name)\n",
    "        f.write('TYPE : TSP\\n')\n",
    "        f.write('DIMENSION : %d\\n' % len(cities))\n",
    "        f.write('EDGE_WEIGHT_TYPE : EUC_2D\\n')\n",
    "        f.write('NODE_COORD_SECTION\\n')\n",
    "        for row in cities.itertuples():\n",
    "            f.write('%d %.11f %.11f\\n' % (row.Index+1, row.X, row.Y))\n",
    "        f.write('EOF\\n')\n",
    "\n",
    "write_tsp(cities1k, 'cities1k.tsp')"
   ]
  },
  {
   "cell_type": "markdown",
   "metadata": {
    "_uuid": "b1df7255e92b31db877ff24ffeb10b64fd5a34b0"
   },
   "source": [
    "## Run LINKERN"
   ]
  },
  {
   "cell_type": "markdown",
   "metadata": {
    "_uuid": "016c806eeef89625e2526fe2e75d14626812f440"
   },
   "source": [
    "Flags that we're using:\n",
    "\n",
    "  * `-s <seed>` - random seed\n",
    "  * `-S <file>` - saving the tour periodically in this file\n",
    "  * `-R 999999999` - repeat LK rounds (almost) indefinitely\n",
    "  * `-t <seconds>` - bound by time instead"
   ]
  },
  {
   "cell_type": "code",
   "execution_count": 6,
   "metadata": {
    "_uuid": "79bd21e8c687a1a2acea12156348be03c726d204"
   },
   "outputs": [
    {
     "name": "stdout",
     "output_type": "stream",
     "text": [
      "Couldn't find program: 'bash'\n"
     ]
    }
   ],
   "source": [
    "%%bash -e\n",
    "time ./linkern -s 42 -S linkern.tour -R 1000000000 -t 300 ./cities1k.tsp >linkern.log"
   ]
  },
  {
   "cell_type": "markdown",
   "metadata": {
    "_uuid": "971d142782e7e58671991ab5301671271f06a450"
   },
   "source": [
    "Lengths of found tours (times scaling factor) during each LK round:"
   ]
  },
  {
   "cell_type": "code",
   "execution_count": 7,
   "metadata": {},
   "outputs": [
    {
     "name": "stderr",
     "output_type": "stream",
     "text": [
      "sed: -e 表現 #1, 文字数 1: 未知のコマンドです: 「'」\n"
     ]
    },
    {
     "ename": "TypeError",
     "evalue": "Empty 'DataFrame': no numeric data to plot",
     "output_type": "error",
     "traceback": [
      "\u001b[1;31m-----------------------------------------------------------------------\u001b[0m",
      "\u001b[1;31mTypeError\u001b[0m                             Traceback (most recent call last)",
      "\u001b[1;32m<ipython-input-7-a5c714aa03a8>\u001b[0m in \u001b[0;36m<module>\u001b[1;34m\u001b[0m\n\u001b[0;32m      1\u001b[0m \u001b[0mget_ipython\u001b[0m\u001b[1;33m(\u001b[0m\u001b[1;33m)\u001b[0m\u001b[1;33m.\u001b[0m\u001b[0msystem\u001b[0m\u001b[1;33m(\u001b[0m\u001b[1;34m\"sed -Ene 's/([0-9]+) Steps.*Best: ([0-9]+).*/\\\\1,\\\\2/p' linkern.log >linkern.csv\"\u001b[0m\u001b[1;33m)\u001b[0m\u001b[1;33m\u001b[0m\u001b[1;33m\u001b[0m\u001b[0m\n\u001b[1;32m----> 2\u001b[1;33m \u001b[0mpd\u001b[0m\u001b[1;33m.\u001b[0m\u001b[0mread_csv\u001b[0m\u001b[1;33m(\u001b[0m\u001b[1;34m'linkern.csv'\u001b[0m\u001b[1;33m,\u001b[0m \u001b[0mindex_col\u001b[0m\u001b[1;33m=\u001b[0m\u001b[1;36m0\u001b[0m\u001b[1;33m,\u001b[0m \u001b[0mnames\u001b[0m\u001b[1;33m=\u001b[0m\u001b[1;33m[\u001b[0m\u001b[1;34m'TSP tour length'\u001b[0m\u001b[1;33m]\u001b[0m\u001b[1;33m)\u001b[0m\u001b[1;33m.\u001b[0m\u001b[0mplot\u001b[0m\u001b[1;33m(\u001b[0m\u001b[1;33m)\u001b[0m\u001b[1;33m;\u001b[0m\u001b[1;33m\u001b[0m\u001b[1;33m\u001b[0m\u001b[0m\n\u001b[0m",
      "\u001b[1;32m~\\Anaconda3\\envs\\Kaggle\\lib\\site-packages\\pandas\\plotting\\_core.py\u001b[0m in \u001b[0;36m__call__\u001b[1;34m(self, x, y, kind, ax, subplots, sharex, sharey, layout, figsize, use_index, title, grid, legend, style, logx, logy, loglog, xticks, yticks, xlim, ylim, rot, fontsize, colormap, table, yerr, xerr, secondary_y, sort_columns, **kwds)\u001b[0m\n\u001b[0;32m   2939\u001b[0m                           \u001b[0mfontsize\u001b[0m\u001b[1;33m=\u001b[0m\u001b[0mfontsize\u001b[0m\u001b[1;33m,\u001b[0m \u001b[0mcolormap\u001b[0m\u001b[1;33m=\u001b[0m\u001b[0mcolormap\u001b[0m\u001b[1;33m,\u001b[0m \u001b[0mtable\u001b[0m\u001b[1;33m=\u001b[0m\u001b[0mtable\u001b[0m\u001b[1;33m,\u001b[0m\u001b[1;33m\u001b[0m\u001b[1;33m\u001b[0m\u001b[0m\n\u001b[0;32m   2940\u001b[0m                           \u001b[0myerr\u001b[0m\u001b[1;33m=\u001b[0m\u001b[0myerr\u001b[0m\u001b[1;33m,\u001b[0m \u001b[0mxerr\u001b[0m\u001b[1;33m=\u001b[0m\u001b[0mxerr\u001b[0m\u001b[1;33m,\u001b[0m \u001b[0msecondary_y\u001b[0m\u001b[1;33m=\u001b[0m\u001b[0msecondary_y\u001b[0m\u001b[1;33m,\u001b[0m\u001b[1;33m\u001b[0m\u001b[1;33m\u001b[0m\u001b[0m\n\u001b[1;32m-> 2941\u001b[1;33m                           sort_columns=sort_columns, **kwds)\n\u001b[0m\u001b[0;32m   2942\u001b[0m     \u001b[0m__call__\u001b[0m\u001b[1;33m.\u001b[0m\u001b[0m__doc__\u001b[0m \u001b[1;33m=\u001b[0m \u001b[0mplot_frame\u001b[0m\u001b[1;33m.\u001b[0m\u001b[0m__doc__\u001b[0m\u001b[1;33m\u001b[0m\u001b[1;33m\u001b[0m\u001b[0m\n\u001b[0;32m   2943\u001b[0m \u001b[1;33m\u001b[0m\u001b[0m\n",
      "\u001b[1;32m~\\Anaconda3\\envs\\Kaggle\\lib\\site-packages\\pandas\\plotting\\_core.py\u001b[0m in \u001b[0;36mplot_frame\u001b[1;34m(data, x, y, kind, ax, subplots, sharex, sharey, layout, figsize, use_index, title, grid, legend, style, logx, logy, loglog, xticks, yticks, xlim, ylim, rot, fontsize, colormap, table, yerr, xerr, secondary_y, sort_columns, **kwds)\u001b[0m\n\u001b[0;32m   1975\u001b[0m                  \u001b[0myerr\u001b[0m\u001b[1;33m=\u001b[0m\u001b[0myerr\u001b[0m\u001b[1;33m,\u001b[0m \u001b[0mxerr\u001b[0m\u001b[1;33m=\u001b[0m\u001b[0mxerr\u001b[0m\u001b[1;33m,\u001b[0m\u001b[1;33m\u001b[0m\u001b[1;33m\u001b[0m\u001b[0m\n\u001b[0;32m   1976\u001b[0m                  \u001b[0msecondary_y\u001b[0m\u001b[1;33m=\u001b[0m\u001b[0msecondary_y\u001b[0m\u001b[1;33m,\u001b[0m \u001b[0msort_columns\u001b[0m\u001b[1;33m=\u001b[0m\u001b[0msort_columns\u001b[0m\u001b[1;33m,\u001b[0m\u001b[1;33m\u001b[0m\u001b[1;33m\u001b[0m\u001b[0m\n\u001b[1;32m-> 1977\u001b[1;33m                  **kwds)\n\u001b[0m\u001b[0;32m   1978\u001b[0m \u001b[1;33m\u001b[0m\u001b[0m\n\u001b[0;32m   1979\u001b[0m \u001b[1;33m\u001b[0m\u001b[0m\n",
      "\u001b[1;32m~\\Anaconda3\\envs\\Kaggle\\lib\\site-packages\\pandas\\plotting\\_core.py\u001b[0m in \u001b[0;36m_plot\u001b[1;34m(data, x, y, subplots, ax, kind, **kwds)\u001b[0m\n\u001b[0;32m   1802\u001b[0m         \u001b[0mplot_obj\u001b[0m \u001b[1;33m=\u001b[0m \u001b[0mklass\u001b[0m\u001b[1;33m(\u001b[0m\u001b[0mdata\u001b[0m\u001b[1;33m,\u001b[0m \u001b[0msubplots\u001b[0m\u001b[1;33m=\u001b[0m\u001b[0msubplots\u001b[0m\u001b[1;33m,\u001b[0m \u001b[0max\u001b[0m\u001b[1;33m=\u001b[0m\u001b[0max\u001b[0m\u001b[1;33m,\u001b[0m \u001b[0mkind\u001b[0m\u001b[1;33m=\u001b[0m\u001b[0mkind\u001b[0m\u001b[1;33m,\u001b[0m \u001b[1;33m**\u001b[0m\u001b[0mkwds\u001b[0m\u001b[1;33m)\u001b[0m\u001b[1;33m\u001b[0m\u001b[1;33m\u001b[0m\u001b[0m\n\u001b[0;32m   1803\u001b[0m \u001b[1;33m\u001b[0m\u001b[0m\n\u001b[1;32m-> 1804\u001b[1;33m     \u001b[0mplot_obj\u001b[0m\u001b[1;33m.\u001b[0m\u001b[0mgenerate\u001b[0m\u001b[1;33m(\u001b[0m\u001b[1;33m)\u001b[0m\u001b[1;33m\u001b[0m\u001b[1;33m\u001b[0m\u001b[0m\n\u001b[0m\u001b[0;32m   1805\u001b[0m     \u001b[0mplot_obj\u001b[0m\u001b[1;33m.\u001b[0m\u001b[0mdraw\u001b[0m\u001b[1;33m(\u001b[0m\u001b[1;33m)\u001b[0m\u001b[1;33m\u001b[0m\u001b[1;33m\u001b[0m\u001b[0m\n\u001b[0;32m   1806\u001b[0m     \u001b[1;32mreturn\u001b[0m \u001b[0mplot_obj\u001b[0m\u001b[1;33m.\u001b[0m\u001b[0mresult\u001b[0m\u001b[1;33m\u001b[0m\u001b[1;33m\u001b[0m\u001b[0m\n",
      "\u001b[1;32m~\\Anaconda3\\envs\\Kaggle\\lib\\site-packages\\pandas\\plotting\\_core.py\u001b[0m in \u001b[0;36mgenerate\u001b[1;34m(self)\u001b[0m\n\u001b[0;32m    256\u001b[0m     \u001b[1;32mdef\u001b[0m \u001b[0mgenerate\u001b[0m\u001b[1;33m(\u001b[0m\u001b[0mself\u001b[0m\u001b[1;33m)\u001b[0m\u001b[1;33m:\u001b[0m\u001b[1;33m\u001b[0m\u001b[1;33m\u001b[0m\u001b[0m\n\u001b[0;32m    257\u001b[0m         \u001b[0mself\u001b[0m\u001b[1;33m.\u001b[0m\u001b[0m_args_adjust\u001b[0m\u001b[1;33m(\u001b[0m\u001b[1;33m)\u001b[0m\u001b[1;33m\u001b[0m\u001b[1;33m\u001b[0m\u001b[0m\n\u001b[1;32m--> 258\u001b[1;33m         \u001b[0mself\u001b[0m\u001b[1;33m.\u001b[0m\u001b[0m_compute_plot_data\u001b[0m\u001b[1;33m(\u001b[0m\u001b[1;33m)\u001b[0m\u001b[1;33m\u001b[0m\u001b[1;33m\u001b[0m\u001b[0m\n\u001b[0m\u001b[0;32m    259\u001b[0m         \u001b[0mself\u001b[0m\u001b[1;33m.\u001b[0m\u001b[0m_setup_subplots\u001b[0m\u001b[1;33m(\u001b[0m\u001b[1;33m)\u001b[0m\u001b[1;33m\u001b[0m\u001b[1;33m\u001b[0m\u001b[0m\n\u001b[0;32m    260\u001b[0m         \u001b[0mself\u001b[0m\u001b[1;33m.\u001b[0m\u001b[0m_make_plot\u001b[0m\u001b[1;33m(\u001b[0m\u001b[1;33m)\u001b[0m\u001b[1;33m\u001b[0m\u001b[1;33m\u001b[0m\u001b[0m\n",
      "\u001b[1;32m~\\Anaconda3\\envs\\Kaggle\\lib\\site-packages\\pandas\\plotting\\_core.py\u001b[0m in \u001b[0;36m_compute_plot_data\u001b[1;34m(self)\u001b[0m\n\u001b[0;32m    371\u001b[0m         \u001b[1;32mif\u001b[0m \u001b[0mis_empty\u001b[0m\u001b[1;33m:\u001b[0m\u001b[1;33m\u001b[0m\u001b[1;33m\u001b[0m\u001b[0m\n\u001b[0;32m    372\u001b[0m             raise TypeError('Empty {0!r}: no numeric data to '\n\u001b[1;32m--> 373\u001b[1;33m                             'plot'.format(numeric_data.__class__.__name__))\n\u001b[0m\u001b[0;32m    374\u001b[0m \u001b[1;33m\u001b[0m\u001b[0m\n\u001b[0;32m    375\u001b[0m         \u001b[0mself\u001b[0m\u001b[1;33m.\u001b[0m\u001b[0mdata\u001b[0m \u001b[1;33m=\u001b[0m \u001b[0mnumeric_data\u001b[0m\u001b[1;33m\u001b[0m\u001b[1;33m\u001b[0m\u001b[0m\n",
      "\u001b[1;31mTypeError\u001b[0m: Empty 'DataFrame': no numeric data to plot"
     ]
    }
   ],
   "source": [
    "!sed -Ene 's/([0-9]+) Steps.*Best: ([0-9]+).*/\\1,\\2/p' linkern.log >linkern.csv\n",
    "pd.read_csv('linkern.csv', index_col=0, names=['TSP tour length']).plot();"
   ]
  },
  {
   "cell_type": "markdown",
   "metadata": {
    "_uuid": "cd98ef01a33a604e627209dfd58c264b24d8f637"
   },
   "source": [
    "## Score and submit found tour"
   ]
  },
  {
   "cell_type": "code",
   "execution_count": null,
   "metadata": {
    "_uuid": "7642663272f9a0ce819c835eb8f545f7e2256708"
   },
   "outputs": [],
   "source": [
    "def read_tour(filename):\n",
    "    tour = open(filename).read().split()[1:]\n",
    "    tour = list(map(int, tour))\n",
    "    if tour[-1] == 0: tour.pop()\n",
    "    return tour\n",
    "\n",
    "def score_tour(tour):\n",
    "    df = cities.reindex(tour + [0]).reset_index()\n",
    "    primes = list(sympy.primerange(0, len(cities)))\n",
    "    df['prime'] = df.CityId.isin(primes).astype(int)\n",
    "    df['dist'] = np.hypot(df.X - df.X.shift(-1), df.Y - df.Y.shift(-1))\n",
    "    df['penalty'] = df['dist'][9::10] * (1 - df['prime'][9::10]) * 0.1\n",
    "    return df.dist.sum() + df.penalty.sum()\n",
    "\n",
    "def write_submission(tour, filename):\n",
    "    assert set(tour) == set(range(len(tour)))\n",
    "    pd.DataFrame({'Path': list(tour) + [0]}).to_csv(filename, index=False)"
   ]
  },
  {
   "cell_type": "markdown",
   "metadata": {
    "_uuid": "a17f7558408a2e270e98836065aa3e4d38dc18c1"
   },
   "source": [
    "Read and format found TSP tour for submission:"
   ]
  },
  {
   "cell_type": "code",
   "execution_count": null,
   "metadata": {
    "_uuid": "30edb9fc788775e4ed12fe3af377ec477ade66c4"
   },
   "outputs": [],
   "source": [
    "tour = read_tour('linkern.tour')\n",
    "write_submission(tour, 'submission.csv')"
   ]
  },
  {
   "cell_type": "markdown",
   "metadata": {
    "_uuid": "3d76fc8004c44719071ce2e173f5b750ca7a5125"
   },
   "source": [
    "Our score is:"
   ]
  },
  {
   "cell_type": "code",
   "execution_count": null,
   "metadata": {
    "_uuid": "218061a7d57958741b81ff996280db315016575e"
   },
   "outputs": [],
   "source": [
    "score_tour(tour)"
   ]
  },
  {
   "cell_type": "markdown",
   "metadata": {
    "_uuid": "c88f8b5f89bb475c8d31f4492eaa5aac991301e9"
   },
   "source": [
    "## Plot the tour"
   ]
  },
  {
   "cell_type": "code",
   "execution_count": null,
   "metadata": {
    "_uuid": "0c768779c65615d28b3dcfa2a03e64c6292933c4"
   },
   "outputs": [],
   "source": [
    "%matplotlib inline\n",
    "plt.figure(figsize=(20, 20))\n",
    "plt.plot(cities.X[tour], cities.Y[tour], alpha=0.7)\n",
    "plt.show()"
   ]
  }
 ],
 "metadata": {
  "kernelspec": {
   "display_name": "Python 3",
   "language": "python",
   "name": "python3"
  },
  "language_info": {
   "codemirror_mode": {
    "name": "ipython",
    "version": 3
   },
   "file_extension": ".py",
   "mimetype": "text/x-python",
   "name": "python",
   "nbconvert_exporter": "python",
   "pygments_lexer": "ipython3",
   "version": "3.6.7"
  }
 },
 "nbformat": 4,
 "nbformat_minor": 1
}
