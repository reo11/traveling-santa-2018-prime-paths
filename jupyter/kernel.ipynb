{
 "cells": [
  {
   "cell_type": "markdown",
   "metadata": {
    "_uuid": "d81e444f756accd0298d4621fa0ae9a304b1b8cb"
   },
   "source": [
    "This notebook shows how to build and run concorde TSP solver directly, without using a rather underfeatured wrapper like pyconcorde."
   ]
  },
  {
   "cell_type": "code",
   "execution_count": 1,
   "metadata": {
    "_kg_hide-input": true,
    "_kg_hide-output": true,
    "_uuid": "591a9951fb440886321293810976c2b2cee906d1"
   },
   "outputs": [],
   "source": [
    "import numpy as np\n",
    "import pandas as pd\n",
    "import matplotlib as mpl\n",
    "import matplotlib.pyplot as plt\n",
    "import sympy\n",
    "import os\n",
    "os.environ['path']+=\";C:\\\\Program Files\\\\Git\\\\bin\""
   ]
  },
  {
   "cell_type": "markdown",
   "metadata": {
    "_uuid": "61e0b1fe36c81d63a46164b38398196c82f747ab"
   },
   "source": [
    "## Build concorde"
   ]
  },
  {
   "cell_type": "markdown",
   "metadata": {
    "_uuid": "b3d9259cd0fdc190f9368ecbd2b5c191bdfbd455"
   },
   "source": [
    "*Note: Internet must be enabled in kernel environment's settings for this step.*\n",
    "\n",
    "Download concorde's source code and build LINKERN - the main tour finding component (chained Lin-Kernighan). It comes with a convenient command line utility that we'll copy for later use."
   ]
  },
  {
   "cell_type": "code",
   "execution_count": 2,
   "metadata": {
    "_kg_hide-output": true,
    "_uuid": "941330be815f316eb27c8d92e3e207c1101ec904"
   },
   "outputs": [
    {
     "name": "stdout",
     "output_type": "stream",
     "text": [
      "co031219.tgz: OK\n",
      "loading cache ./config.cache\n",
      "checking host system type... \n",
      "checking for prespecified compiler options... no\n",
      "checking for gcc... no\n",
      "checking for cc... no\n"
     ]
    },
    {
     "name": "stderr",
     "output_type": "stream",
     "text": [
      "SYSTEM_WGETRC = c:/progra~1/wget/etc/wgetrc\r\n",
      "syswgetrc = C:\\Program Files (x86)\\GnuWin32/etc/wgetrc\r\n",
      "--2018-12-03 17:12:37--  http://www.math.uwaterloo.ca/tsp/concorde/downloads/codes/src/co031219.tgz\r\n",
      "www.math.uwaterloo.ca をDNSに問いあわせています... 129.97.140.120\r\n",
      "www.math.uwaterloo.ca|129.97.140.120|:80 に接続しています... 接続しました。\r\n",
      "HTTP による接続要求を送信しました、応答を待っています... 200 OK\r\n",
      "長さ: 698592 (682K) [application/x-gzip]\r\n",
      "`co031219.tgz.17' に保存中\r\n",
      "\r\n",
      "     0K .......... .......... .......... .......... ..........  7% 74.8K 8s\r\n",
      "    50K .......... .......... .......... .......... .......... 14%  220K 5s\r\n",
      "   100K .......... .......... .......... .......... .......... 21%  215K 4s\r\n",
      "   150K .......... .......... .......... .......... .......... 29%  209K 3s\r\n",
      "   200K .......... .......... .......... .......... .......... 36%  200K 3s\r\n",
      "   250K .......... .......... .......... .......... .......... 43% 3.66M 2s\r\n",
      "   300K .......... .......... .......... .......... .......... 51%  241K 2s\r\n",
      "   350K .......... .......... .......... .......... .......... 58% 6.18M 1s\r\n",
      "   400K .......... .......... .......... .......... .......... 65% 10.6M 1s\r\n",
      "   450K .......... .......... .......... .......... .......... 73%  224K 1s\r\n",
      "   500K .......... .......... .......... .......... .......... 80% 14.8M 0s\r\n",
      "   550K .......... .......... .......... .......... .......... 87%  262K 0s\r\n",
      "   600K .......... .......... .......... .......... .......... 95%  283M 0s\r\n",
      "   650K .......... .......... .......... ..                   100%  288M=2.3s\r\n",
      "\r\n",
      "2018-12-03 17:12:40 (301 KB/s) - `co031219.tgz.17' へ保存完了 [698592/698592]\r\n",
      "\r\n",
      "Invalid configuration `x86_64-unknown-cygwin': machine `x86_64-unknown' not recognized\n",
      "configure: error: no acceptable cc found in $PATH\n"
     ]
    },
    {
     "ename": "CalledProcessError",
     "evalue": "Command 'b\"if ! [[ -f ./linkern ]]; then\\n  wget http://www.math.uwaterloo.ca/tsp/concorde/downloads/codes/src/co031219.tgz\\n  echo 'c3650a59c8d57e0a00e81c1288b994a99c5aa03e5d96a314834c2d8f9505c724  co031219.tgz' | sha256sum -c\\n  tar xf co031219.tgz\\n  (cd concorde && CFLAGS='-O3 -march=native -mtune=native -fPIC' ./configure --build=x86_64-unknown-cygwin --host=x86_64-unknown-cygwin)\\n  (cd concorde/LINKERN && make -j && cp linkern ../../)\\n  rm -rf concorde co031219.tgz\\nfi\\n\"' returned non-zero exit status 1.",
     "output_type": "error",
     "traceback": [
      "\u001b[1;31m-----------------------------------------------------------------------\u001b[0m",
      "\u001b[1;31mCalledProcessError\u001b[0m                    Traceback (most recent call last)",
      "\u001b[1;32m<ipython-input-2-46a8ff90a00f>\u001b[0m in \u001b[0;36m<module>\u001b[1;34m\u001b[0m\n\u001b[1;32m----> 1\u001b[1;33m \u001b[0mget_ipython\u001b[0m\u001b[1;33m(\u001b[0m\u001b[1;33m)\u001b[0m\u001b[1;33m.\u001b[0m\u001b[0mrun_cell_magic\u001b[0m\u001b[1;33m(\u001b[0m\u001b[1;34m'bash'\u001b[0m\u001b[1;33m,\u001b[0m \u001b[1;34m'-e'\u001b[0m\u001b[1;33m,\u001b[0m \u001b[1;34m\"if ! [[ -f ./linkern ]]; then\\n  wget http://www.math.uwaterloo.ca/tsp/concorde/downloads/codes/src/co031219.tgz\\n  echo 'c3650a59c8d57e0a00e81c1288b994a99c5aa03e5d96a314834c2d8f9505c724  co031219.tgz' | sha256sum -c\\n  tar xf co031219.tgz\\n  (cd concorde && CFLAGS='-O3 -march=native -mtune=native -fPIC' ./configure --build=x86_64-unknown-cygwin --host=x86_64-unknown-cygwin)\\n  (cd concorde/LINKERN && make -j && cp linkern ../../)\\n  rm -rf concorde co031219.tgz\\nfi\\n\"\u001b[0m\u001b[1;33m)\u001b[0m\u001b[1;33m\u001b[0m\u001b[1;33m\u001b[0m\u001b[0m\n\u001b[0m",
      "\u001b[1;32m~\\Anaconda3\\envs\\Kaggle\\lib\\site-packages\\IPython\\core\\interactiveshell.py\u001b[0m in \u001b[0;36mrun_cell_magic\u001b[1;34m(self, magic_name, line, cell)\u001b[0m\n\u001b[0;32m   2319\u001b[0m             \u001b[0mmagic_arg_s\u001b[0m \u001b[1;33m=\u001b[0m \u001b[0mself\u001b[0m\u001b[1;33m.\u001b[0m\u001b[0mvar_expand\u001b[0m\u001b[1;33m(\u001b[0m\u001b[0mline\u001b[0m\u001b[1;33m,\u001b[0m \u001b[0mstack_depth\u001b[0m\u001b[1;33m)\u001b[0m\u001b[1;33m\u001b[0m\u001b[1;33m\u001b[0m\u001b[0m\n\u001b[0;32m   2320\u001b[0m             \u001b[1;32mwith\u001b[0m \u001b[0mself\u001b[0m\u001b[1;33m.\u001b[0m\u001b[0mbuiltin_trap\u001b[0m\u001b[1;33m:\u001b[0m\u001b[1;33m\u001b[0m\u001b[1;33m\u001b[0m\u001b[0m\n\u001b[1;32m-> 2321\u001b[1;33m                 \u001b[0mresult\u001b[0m \u001b[1;33m=\u001b[0m \u001b[0mfn\u001b[0m\u001b[1;33m(\u001b[0m\u001b[0mmagic_arg_s\u001b[0m\u001b[1;33m,\u001b[0m \u001b[0mcell\u001b[0m\u001b[1;33m)\u001b[0m\u001b[1;33m\u001b[0m\u001b[1;33m\u001b[0m\u001b[0m\n\u001b[0m\u001b[0;32m   2322\u001b[0m             \u001b[1;32mreturn\u001b[0m \u001b[0mresult\u001b[0m\u001b[1;33m\u001b[0m\u001b[1;33m\u001b[0m\u001b[0m\n\u001b[0;32m   2323\u001b[0m \u001b[1;33m\u001b[0m\u001b[0m\n",
      "\u001b[1;32m~\\Anaconda3\\envs\\Kaggle\\lib\\site-packages\\IPython\\core\\magics\\script.py\u001b[0m in \u001b[0;36mnamed_script_magic\u001b[1;34m(line, cell)\u001b[0m\n\u001b[0;32m    140\u001b[0m             \u001b[1;32melse\u001b[0m\u001b[1;33m:\u001b[0m\u001b[1;33m\u001b[0m\u001b[1;33m\u001b[0m\u001b[0m\n\u001b[0;32m    141\u001b[0m                 \u001b[0mline\u001b[0m \u001b[1;33m=\u001b[0m \u001b[0mscript\u001b[0m\u001b[1;33m\u001b[0m\u001b[1;33m\u001b[0m\u001b[0m\n\u001b[1;32m--> 142\u001b[1;33m             \u001b[1;32mreturn\u001b[0m \u001b[0mself\u001b[0m\u001b[1;33m.\u001b[0m\u001b[0mshebang\u001b[0m\u001b[1;33m(\u001b[0m\u001b[0mline\u001b[0m\u001b[1;33m,\u001b[0m \u001b[0mcell\u001b[0m\u001b[1;33m)\u001b[0m\u001b[1;33m\u001b[0m\u001b[1;33m\u001b[0m\u001b[0m\n\u001b[0m\u001b[0;32m    143\u001b[0m \u001b[1;33m\u001b[0m\u001b[0m\n\u001b[0;32m    144\u001b[0m         \u001b[1;31m# write a basic docstring:\u001b[0m\u001b[1;33m\u001b[0m\u001b[1;33m\u001b[0m\u001b[1;33m\u001b[0m\u001b[0m\n",
      "\u001b[1;32m<decorator-gen-110>\u001b[0m in \u001b[0;36mshebang\u001b[1;34m(self, line, cell)\u001b[0m\n",
      "\u001b[1;32m~\\Anaconda3\\envs\\Kaggle\\lib\\site-packages\\IPython\\core\\magic.py\u001b[0m in \u001b[0;36m<lambda>\u001b[1;34m(f, *a, **k)\u001b[0m\n\u001b[0;32m    185\u001b[0m     \u001b[1;31m# but it's overkill for just that one bit of state.\u001b[0m\u001b[1;33m\u001b[0m\u001b[1;33m\u001b[0m\u001b[1;33m\u001b[0m\u001b[0m\n\u001b[0;32m    186\u001b[0m     \u001b[1;32mdef\u001b[0m \u001b[0mmagic_deco\u001b[0m\u001b[1;33m(\u001b[0m\u001b[0marg\u001b[0m\u001b[1;33m)\u001b[0m\u001b[1;33m:\u001b[0m\u001b[1;33m\u001b[0m\u001b[1;33m\u001b[0m\u001b[0m\n\u001b[1;32m--> 187\u001b[1;33m         \u001b[0mcall\u001b[0m \u001b[1;33m=\u001b[0m \u001b[1;32mlambda\u001b[0m \u001b[0mf\u001b[0m\u001b[1;33m,\u001b[0m \u001b[1;33m*\u001b[0m\u001b[0ma\u001b[0m\u001b[1;33m,\u001b[0m \u001b[1;33m**\u001b[0m\u001b[0mk\u001b[0m\u001b[1;33m:\u001b[0m \u001b[0mf\u001b[0m\u001b[1;33m(\u001b[0m\u001b[1;33m*\u001b[0m\u001b[0ma\u001b[0m\u001b[1;33m,\u001b[0m \u001b[1;33m**\u001b[0m\u001b[0mk\u001b[0m\u001b[1;33m)\u001b[0m\u001b[1;33m\u001b[0m\u001b[1;33m\u001b[0m\u001b[0m\n\u001b[0m\u001b[0;32m    188\u001b[0m \u001b[1;33m\u001b[0m\u001b[0m\n\u001b[0;32m    189\u001b[0m         \u001b[1;32mif\u001b[0m \u001b[0mcallable\u001b[0m\u001b[1;33m(\u001b[0m\u001b[0marg\u001b[0m\u001b[1;33m)\u001b[0m\u001b[1;33m:\u001b[0m\u001b[1;33m\u001b[0m\u001b[1;33m\u001b[0m\u001b[0m\n",
      "\u001b[1;32m~\\Anaconda3\\envs\\Kaggle\\lib\\site-packages\\IPython\\core\\magics\\script.py\u001b[0m in \u001b[0;36mshebang\u001b[1;34m(self, line, cell)\u001b[0m\n\u001b[0;32m    243\u001b[0m             \u001b[0msys\u001b[0m\u001b[1;33m.\u001b[0m\u001b[0mstderr\u001b[0m\u001b[1;33m.\u001b[0m\u001b[0mflush\u001b[0m\u001b[1;33m(\u001b[0m\u001b[1;33m)\u001b[0m\u001b[1;33m\u001b[0m\u001b[1;33m\u001b[0m\u001b[0m\n\u001b[0;32m    244\u001b[0m         \u001b[1;32mif\u001b[0m \u001b[0margs\u001b[0m\u001b[1;33m.\u001b[0m\u001b[0mraise_error\u001b[0m \u001b[1;32mand\u001b[0m \u001b[0mp\u001b[0m\u001b[1;33m.\u001b[0m\u001b[0mreturncode\u001b[0m\u001b[1;33m!=\u001b[0m\u001b[1;36m0\u001b[0m\u001b[1;33m:\u001b[0m\u001b[1;33m\u001b[0m\u001b[1;33m\u001b[0m\u001b[0m\n\u001b[1;32m--> 245\u001b[1;33m             \u001b[1;32mraise\u001b[0m \u001b[0mCalledProcessError\u001b[0m\u001b[1;33m(\u001b[0m\u001b[0mp\u001b[0m\u001b[1;33m.\u001b[0m\u001b[0mreturncode\u001b[0m\u001b[1;33m,\u001b[0m \u001b[0mcell\u001b[0m\u001b[1;33m,\u001b[0m \u001b[0moutput\u001b[0m\u001b[1;33m=\u001b[0m\u001b[0mout\u001b[0m\u001b[1;33m,\u001b[0m \u001b[0mstderr\u001b[0m\u001b[1;33m=\u001b[0m\u001b[0merr\u001b[0m\u001b[1;33m)\u001b[0m\u001b[1;33m\u001b[0m\u001b[1;33m\u001b[0m\u001b[0m\n\u001b[0m\u001b[0;32m    246\u001b[0m \u001b[1;33m\u001b[0m\u001b[0m\n\u001b[0;32m    247\u001b[0m     \u001b[1;32mdef\u001b[0m \u001b[0m_run_script\u001b[0m\u001b[1;33m(\u001b[0m\u001b[0mself\u001b[0m\u001b[1;33m,\u001b[0m \u001b[0mp\u001b[0m\u001b[1;33m,\u001b[0m \u001b[0mcell\u001b[0m\u001b[1;33m,\u001b[0m \u001b[0mto_close\u001b[0m\u001b[1;33m)\u001b[0m\u001b[1;33m:\u001b[0m\u001b[1;33m\u001b[0m\u001b[1;33m\u001b[0m\u001b[0m\n",
      "\u001b[1;31mCalledProcessError\u001b[0m: Command 'b\"if ! [[ -f ./linkern ]]; then\\n  wget http://www.math.uwaterloo.ca/tsp/concorde/downloads/codes/src/co031219.tgz\\n  echo 'c3650a59c8d57e0a00e81c1288b994a99c5aa03e5d96a314834c2d8f9505c724  co031219.tgz' | sha256sum -c\\n  tar xf co031219.tgz\\n  (cd concorde && CFLAGS='-O3 -march=native -mtune=native -fPIC' ./configure --build=x86_64-unknown-cygwin --host=x86_64-unknown-cygwin)\\n  (cd concorde/LINKERN && make -j && cp linkern ../../)\\n  rm -rf concorde co031219.tgz\\nfi\\n\"' returned non-zero exit status 1."
     ]
    }
   ],
   "source": [
    "%%bash -e\n",
    "if ! [[ -f ./linkern ]]; then\n",
    "  wget http://www.math.uwaterloo.ca/tsp/concorde/downloads/codes/src/co031219.tgz\n",
    "  echo 'c3650a59c8d57e0a00e81c1288b994a99c5aa03e5d96a314834c2d8f9505c724  co031219.tgz' | sha256sum -c\n",
    "  tar xf co031219.tgz\n",
    "  (cd concorde && CFLAGS='-O3 -march=native -mtune=native -fPIC' ./configure --build=x86_64-unknown-cygwin --host=x86_64-unknown-cygwin)\n",
    "  (cd concorde/LINKERN && make -j && cp linkern ../../)\n",
    "  rm -rf concorde co031219.tgz\n",
    "fi"
   ]
  },
  {
   "cell_type": "markdown",
   "metadata": {
    "_uuid": "9cfacfa5e5d790a9c24200f1add672fc00655c4b"
   },
   "source": [
    "The rest of concorde code is mostly dedicated to optimizing a lower bound on TSP length and is not of great practical interest for this competition, so we won't built it."
   ]
  },
  {
   "cell_type": "markdown",
   "metadata": {
    "_uuid": "f1f3cbe6c8c55da7871132a2274c9b4b4b988026"
   },
   "source": [
    "## Prepare input"
   ]
  },
  {
   "cell_type": "code",
   "execution_count": null,
   "metadata": {
    "_uuid": "ff353a84a538df573157c1292dd3b22564105fe0"
   },
   "outputs": [],
   "source": [
    "cities = pd.read_csv('../input/cities.csv', index_col=['CityId'])"
   ]
  },
  {
   "cell_type": "markdown",
   "metadata": {
    "_uuid": "d11ef7ca844f7ab5e0067cac970374b1e31b9840"
   },
   "source": [
    "Concorde's EUC_2D norm rounds the distances between cities to the nearest integer ([source](https://github.com/matthelb/concorde/blob/master/UTIL/edgelen.c#L299)) whereas competition metric doesn't. This significantly hurts quality as we get closer to TSP optimum. Let's scale the coordinates up by a few orders of magnitude to work around this problem:"
   ]
  },
  {
   "cell_type": "code",
   "execution_count": null,
   "metadata": {
    "_uuid": "2620246a8508ac6305df99bfab39186e905c7fe9"
   },
   "outputs": [],
   "source": [
    "cities1k = cities * 1000"
   ]
  },
  {
   "cell_type": "markdown",
   "metadata": {
    "_uuid": "f50f40237f17e8e9f940770aaf6b6f22d26070c7"
   },
   "source": [
    "Write out the problem in TSPLIB format:"
   ]
  },
  {
   "cell_type": "code",
   "execution_count": null,
   "metadata": {
    "_uuid": "3860fa55810850db2bc72e0235d2713f0b32db0a"
   },
   "outputs": [],
   "source": [
    "def write_tsp(cities, filename, name='traveling-santa-2018-prime-paths'):\n",
    "    with open(filename, 'w') as f:\n",
    "        f.write('NAME : %s\\n' % name)\n",
    "        f.write('COMMENT : %s\\n' % name)\n",
    "        f.write('TYPE : TSP\\n')\n",
    "        f.write('DIMENSION : %d\\n' % len(cities))\n",
    "        f.write('EDGE_WEIGHT_TYPE : EUC_2D\\n')\n",
    "        f.write('NODE_COORD_SECTION\\n')\n",
    "        for row in cities.itertuples():\n",
    "            f.write('%d %.11f %.11f\\n' % (row.Index+1, row.X, row.Y))\n",
    "        f.write('EOF\\n')\n",
    "\n",
    "write_tsp(cities1k, 'cities1k.tsp')"
   ]
  },
  {
   "cell_type": "markdown",
   "metadata": {
    "_uuid": "b1df7255e92b31db877ff24ffeb10b64fd5a34b0"
   },
   "source": [
    "## Run LINKERN"
   ]
  },
  {
   "cell_type": "markdown",
   "metadata": {
    "_uuid": "016c806eeef89625e2526fe2e75d14626812f440"
   },
   "source": [
    "Flags that we're using:\n",
    "\n",
    "  * `-s <seed>` - random seed\n",
    "  * `-S <file>` - saving the tour periodically in this file\n",
    "  * `-R 999999999` - repeat LK rounds (almost) indefinitely\n",
    "  * `-t <seconds>` - bound by time instead"
   ]
  },
  {
   "cell_type": "code",
   "execution_count": null,
   "metadata": {
    "_uuid": "79bd21e8c687a1a2acea12156348be03c726d204"
   },
   "outputs": [],
   "source": [
    "%%bash -e\n",
    "time ./linkern -s 42 -S linkern.tour -R 1000000000 -t 300 ./cities1k.tsp >linkern.log"
   ]
  },
  {
   "cell_type": "markdown",
   "metadata": {
    "_uuid": "971d142782e7e58671991ab5301671271f06a450"
   },
   "source": [
    "Lengths of found tours (times scaling factor) during each LK round:"
   ]
  },
  {
   "cell_type": "code",
   "execution_count": null,
   "metadata": {},
   "outputs": [],
   "source": [
    "!sed -Ene 's/([0-9]+) Steps.*Best: ([0-9]+).*/\\1,\\2/p' linkern.log >linkern.csv\n",
    "pd.read_csv('linkern.csv', index_col=0, names=['TSP tour length']).plot();"
   ]
  },
  {
   "cell_type": "markdown",
   "metadata": {
    "_uuid": "cd98ef01a33a604e627209dfd58c264b24d8f637"
   },
   "source": [
    "## Score and submit found tour"
   ]
  },
  {
   "cell_type": "code",
   "execution_count": null,
   "metadata": {
    "_uuid": "7642663272f9a0ce819c835eb8f545f7e2256708"
   },
   "outputs": [],
   "source": [
    "def read_tour(filename):\n",
    "    tour = open(filename).read().split()[1:]\n",
    "    tour = list(map(int, tour))\n",
    "    if tour[-1] == 0: tour.pop()\n",
    "    return tour\n",
    "\n",
    "def score_tour(tour):\n",
    "    df = cities.reindex(tour + [0]).reset_index()\n",
    "    primes = list(sympy.primerange(0, len(cities)))\n",
    "    df['prime'] = df.CityId.isin(primes).astype(int)\n",
    "    df['dist'] = np.hypot(df.X - df.X.shift(-1), df.Y - df.Y.shift(-1))\n",
    "    df['penalty'] = df['dist'][9::10] * (1 - df['prime'][9::10]) * 0.1\n",
    "    return df.dist.sum() + df.penalty.sum()\n",
    "\n",
    "def write_submission(tour, filename):\n",
    "    assert set(tour) == set(range(len(tour)))\n",
    "    pd.DataFrame({'Path': list(tour) + [0]}).to_csv(filename, index=False)"
   ]
  },
  {
   "cell_type": "markdown",
   "metadata": {
    "_uuid": "a17f7558408a2e270e98836065aa3e4d38dc18c1"
   },
   "source": [
    "Read and format found TSP tour for submission:"
   ]
  },
  {
   "cell_type": "code",
   "execution_count": null,
   "metadata": {
    "_uuid": "30edb9fc788775e4ed12fe3af377ec477ade66c4"
   },
   "outputs": [],
   "source": [
    "tour = read_tour('linkern.tour')\n",
    "write_submission(tour, 'submission.csv')"
   ]
  },
  {
   "cell_type": "markdown",
   "metadata": {
    "_uuid": "3d76fc8004c44719071ce2e173f5b750ca7a5125"
   },
   "source": [
    "Our score is:"
   ]
  },
  {
   "cell_type": "code",
   "execution_count": null,
   "metadata": {
    "_uuid": "218061a7d57958741b81ff996280db315016575e"
   },
   "outputs": [],
   "source": [
    "score_tour(tour)"
   ]
  },
  {
   "cell_type": "markdown",
   "metadata": {
    "_uuid": "c88f8b5f89bb475c8d31f4492eaa5aac991301e9"
   },
   "source": [
    "## Plot the tour"
   ]
  },
  {
   "cell_type": "code",
   "execution_count": null,
   "metadata": {
    "_uuid": "0c768779c65615d28b3dcfa2a03e64c6292933c4"
   },
   "outputs": [],
   "source": [
    "%matplotlib inline\n",
    "plt.figure(figsize=(20, 20))\n",
    "plt.plot(cities.X[tour], cities.Y[tour], alpha=0.7)\n",
    "plt.show()"
   ]
  }
 ],
 "metadata": {
  "kernelspec": {
   "display_name": "Python 3",
   "language": "python",
   "name": "python3"
  },
  "language_info": {
   "codemirror_mode": {
    "name": "ipython",
    "version": 3
   },
   "file_extension": ".py",
   "mimetype": "text/x-python",
   "name": "python",
   "nbconvert_exporter": "python",
   "pygments_lexer": "ipython3",
   "version": "3.6.7"
  }
 },
 "nbformat": 4,
 "nbformat_minor": 1
}
